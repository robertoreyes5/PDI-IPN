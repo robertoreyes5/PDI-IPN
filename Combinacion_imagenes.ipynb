{
  "nbformat": 4,
  "nbformat_minor": 0,
  "metadata": {
    "colab": {
      "provenance": []
    },
    "kernelspec": {
      "name": "python3",
      "display_name": "Python 3"
    },
    "language_info": {
      "name": "python"
    }
  },
  "cells": [
    {
      "cell_type": "code",
      "execution_count": null,
      "metadata": {
        "id": "uOHVc6YnW-UC"
      },
      "outputs": [],
      "source": [
        "#Práctica Combinación de imágenes\n",
        "# Equipo: Roberto Reyes, Enrique Ramírez Pérez\n",
        "#En esta secion hizo falta empatar los arreglos por lo que no se conluyo y se opto por otra solución\n",
        "#En esta seccion ocurri un error resultado = (F & ~img_umbralizada) | (imge2 & img_umbralizada)\n",
        "#VERSION 1\n",
        "from google.colab.patches import cv2_imshow\n",
        "import cv2\n",
        "import numpy as np\n",
        "imge1 = cv2.imread(\"/content/imagen1.png\")\n",
        "imge2 = cv2.imread(\"/content/imagen2.png\")\n",
        "F = cv2.imread(\"/content/paris_cool.jpg\")\n",
        "\n",
        "from google.colab.patches import cv2_imshow\n",
        "import numpy as np\n",
        "\n",
        "D = abs(imge2 - imge1)\n",
        "#img2 = cv2_imshow(D)\n",
        "\n",
        "def umbralizar(D, x):\n",
        "    # convierte la imagen a escala de grises si es necesario\n",
        "    if len(D.shape) > 2:\n",
        "        D = cv2.cvtColor(D, cv2.COLOR_BGR2GRAY)\n",
        "    # aplica la umbralización\n",
        "    ret, U = cv2.threshold(D, x, 255, cv2.THRESH_BINARY)\n",
        "    #print(\"UUUU\",U)\n",
        "    RELAT=U.shape\n",
        "    #print(\"rekat\",RELAT)\n",
        "    return U\n",
        "\n",
        "# aplica umbralización con valor de umbral 128\n",
        "umbral = 128\n",
        "img_umbralizada = umbralizar(D, umbral)\n",
        "RELAT=img_umbralizada.shape\n",
        "\n",
        "B_ajustada = np.tile(imge2, (img_umbralizada.shape[0], 3))\n",
        "\n",
        "# Sumar las matrices A y B ajustada\n",
        "C = B_ajustada\n",
        "\n",
        "#print(\"vs¿a\",C)\n",
        "#print(\"Rekat\",RELAT)\n",
        "#img_umbralizad_2 = umbralizar(imge2, umbral)\n",
        "# muestra la imagen umbralizada\n",
        "cv2_imshow(img_umbralizada)\n",
        "#cv2_imshow(img_umbralizad_2)\n",
        "cv2.waitKey(0)\n",
        "cv2.destroyAllWindows()\n",
        "\n",
        "\n",
        "resultado = (F & ~img_umbralizada) | (imge2 & img_umbralizada)\n",
        "print(\"result\",resultado)"
      ]
    },
    {
      "cell_type": "code",
      "source": [
        "#Este codigo es funcional con escala de grises\n",
        "#VERSION 2\n",
        "import cv2\n",
        "from google.colab.patches import cv2_imshow\n",
        "\n",
        "# Cargar la imagen de fondo F y la máscara binaria U\n",
        "F = cv2.imread(\"/content/imagen1.png\")\n",
        "U = cv2.imread(\"/content/imagen2.png\", cv2.IMREAD_GRAYSCALE)\n",
        "\n",
        "# Convertir la imagen de fondo F a escala de grises\n",
        "F_gris = cv2.cvtColor(F, cv2.COLOR_BGR2GRAY)\n",
        "#img2 = cv2_imshow(F_rgis)\n",
        "# Cargar la imagen de reemplazo A\n",
        "A = cv2.imread(\"/content/paris_cool.jpg\", cv2.IMREAD_GRAYSCALE)\n",
        "img2 = cv2_imshow(A)\n",
        "# Invertir la máscara binaria U\n",
        "U_invertida = cv2.bitwise_not(U)\n",
        "print(\"ghdfgh\",U_invertida)\n",
        "img2 = cv2_imshow(U_invertida)\n",
        "# Calcular la operación booleana R := (F AND NOT U) OR (A AND U)\n",
        "R1 = cv2.bitwise_and(F_gris, U_invertida)\n",
        "print(\"R1\",R1)\n",
        "R2 = cv2.bitwise_and(A, U)\n",
        "R = cv2.bitwise_or(R1, R2)\n",
        "\n",
        "# Mostrar la imagen resultante R\n",
        "cv2_imshow (R)\n",
        "cv2.waitKey(0)\n",
        "cv2.destroyAllWindows()\n"
      ],
      "metadata": {
        "id": "-gX_PyihXKx1"
      },
      "execution_count": null,
      "outputs": []
    },
    {
      "cell_type": "code",
      "source": [
        "#Este codigo es funcional a color \n",
        "#VERSION 3\n",
        "import cv2\n",
        "from google.colab.patches import cv2_imshow\n",
        "\n",
        "# Cargar la imagen de fondo F y la máscara binaria U\n",
        "F = cv2.imread(\"/content/imagen1.png\")\n",
        "U = cv2.imread(\"/content/imagen2.png\")\n",
        "\n",
        "# Convertir la imagen de fondo F a escala de grises\n",
        "# F_gris = cv2.cvtColor(F)\n",
        "#img2 = cv2_imshow(F_rgis)\n",
        "# Cargar la imagen de reemplazo A\n",
        "A = cv2.imread(\"/content/paris_cool.jpg\")\n",
        "img2 = cv2_imshow(A)\n",
        "# Invertir la máscara binaria U\n",
        "U_invertida = cv2.bitwise_not(U)\n",
        "print(\"ghdfgh\",U_invertida)\n",
        "img2 = cv2_imshow(U_invertida)\n",
        "# Calcular la operación booleana R := (F AND NOT U) OR (A AND U)\n",
        "R1 = cv2.bitwise_and(F, U_invertida)\n",
        "print(\"R1\",R1)\n",
        "R2 = cv2.bitwise_and(A, U)\n",
        "R = cv2.bitwise_or(R1, R2)\n",
        "\n",
        "# Mostrar la imagen resultante R\n",
        "cv2_imshow (R)\n",
        "cv2.waitKey(0)\n",
        "cv2.destroyAllWindows()"
      ],
      "metadata": {
        "id": "mI8H71u2XBFr"
      },
      "execution_count": null,
      "outputs": []
    }
  ]
}